{
 "cells": [
  {
   "cell_type": "markdown",
   "id": "fdb4c732",
   "metadata": {},
   "source": [
    "# Лабораторна робота 1 із Еліптичних Кривих\n",
    "\n",
    "**Виконали:** Бондар Петро, Кістаєв Матвій (ФІ-42мн)\n",
    "\n",
    "**Мета:** Отримання практичних навичок програмної реалізації арфиметики на еліптичних кривих, закріплення теоретичного матеріалу, отриманого на лекційних заняттях."
   ]
  },
  {
   "cell_type": "code",
   "execution_count": 1,
   "id": "bd7ed835",
   "metadata": {},
   "outputs": [],
   "source": [
    "from epileptic import *\n",
    "import random\n",
    "import time"
   ]
  },
  {
   "cell_type": "markdown",
   "id": "a947a209",
   "metadata": {},
   "source": [
    "## Деталі щодо програмної реалізації\n",
    "\n",
    "### Загальні відомості щодо інтерфейсу класів\n",
    "\n",
    "У файлі epileptic.py наведено два класи для роботи із еліптичними кривими: EllipticCurve та EllipticCurvePoint.\n",
    "\n",
    "Для створення об'єкту еліптичної кривої використовується стандартний конструктор, параметрами якого є значення простого модуля p та значень a, b кривої у формі Веєрштрасса ($y^2 \\equiv x^3 + ax + b$).\n",
    "\n",
    "Для створення об'єкту точки кривої використовується один із двох методів:\n",
    "\n",
    "- Стандартний конструктор EllipticCurvePoint(): для створення точки за допомогою проективних кординат;\n",
    "- Статичний метод EllipticCurvePoint.from_affine(): для створення точки за допомогою афінних координат.\n",
    "\n",
    "Додаткові методи:\n",
    "\n",
    "- EllipticCurve.rand_point(): створення випадкової точки на кривій шляхом розв'язку рівняння кривої у формі Веєрштрасса для випадково обраного x;\n",
    "- EllipticCurve.inf(): отримання точки на нескінченності для певної кривої.\n",
    "\n",
    "### Деталі імплементації\n",
    "\n",
    "Всі операції виконуються у проективних координатах для покращення ефективності.\n",
    "\n",
    "**Додавання та подвоєння:** стандартний алгоритм додавання точок у проективних координатах.\n",
    "\n",
    "**Множення:** використано алгоритм \"сходи Монтгомері\" (https://eprint.iacr.org/2011/338.pdf)."
   ]
  },
  {
   "cell_type": "markdown",
   "id": "75da56ee",
   "metadata": {},
   "source": [
    "## Обрана крива: P-224\n",
    "\n",
    "Параметри кривої взято у відповідності зі стандартом на сайті https://neuromancer.sk/std/nist/P-224."
   ]
  },
  {
   "cell_type": "code",
   "execution_count": 2,
   "id": "788db054",
   "metadata": {},
   "outputs": [],
   "source": [
    "p = 0xffffffffffffffffffffffffffffffff000000000000000000000001\n",
    "a = 0xfffffffffffffffffffffffffffffffefffffffffffffffffffffffe\n",
    "b = 0xb4050a850c04b3abf54132565044b0b7d7bfd8ba270b39432355ffb4\n",
    "n = 0xffffffffffffffffffffffffffff16a2e0b8f03e13dd29455c5c2a3d\n",
    "\n",
    "EC = EllipticCurve(a, b, p)\n",
    "\n",
    "G = EllipticCurvePoint.from_affine(0xb70e0cbd6bb4bf7f321390b94a03c1d356c21122343280d6115c1d21, 0xbd376388b5f723fb4c22dfe6cd4375a05a07476444d5819985007e34, EC)\n"
   ]
  },
  {
   "cell_type": "markdown",
   "id": "ea123312",
   "metadata": {},
   "source": [
    "## Тести на загальні властивості\n",
    "\n",
    "Наведено тести для наступного:\n",
    "\n",
    "- Перевірка загальних властивостей точки на нескінченності.\n",
    "- Перевірка властивостей додавання.\n",
    "- Перевірка властивостей скалярного добутку.\n",
    "- Перевірка групових властивостей точок на еліптичній кривій.\n",
    "- Перевірка властивостей генератора."
   ]
  },
  {
   "cell_type": "code",
   "execution_count": 3,
   "id": "07c94106",
   "metadata": {},
   "outputs": [],
   "source": [
    "def test_inf(P):\n",
    "    O = P.curve.inf()\n",
    "    assert P.curve.is_on_curve(O), \"inf not on curve\"\n",
    "    assert P + O == P, \"point + inf != point\"\n",
    "    assert O + P == P, \"inf + point != point\"\n",
    "    assert P - O == P, \"point - inf != point\"\n",
    "    assert O - P == -P, \"inf - point != -point\"\n",
    "    assert O + O == O, \"inf + inf != inf\"\n",
    "    assert O - O == O, \"inf - inf != inf\"\n",
    "    \n",
    "\n",
    "def test_peklo(P):\n",
    "    s1 = random.randint(1, n)\n",
    "    s2 = random.randint(1, n)\n",
    "    sum = (s1 + s2) % n\n",
    "    diff = (s1 - s2) % n\n",
    "    point1 = s1 * P\n",
    "    point2 = s2 * P\n",
    "    result_sum = sum * P\n",
    "    result_diff = diff * P\n",
    "\n",
    "    assert (point1 + point2) == result_sum, f\"[s1]P + [s2]P != [s1+s2]P\"\n",
    "    assert (point1 - point2) == result_diff, \"[s1]P - [s2]P != [s1-s2]P\"\n",
    "    assert (point1 + point2) == (point2 + point1), \"[s1]P + [s2]P != [s2]P + [s1]P\"\n",
    "    \n",
    "\n",
    "def test_scalaro_producto(P):\n",
    "    s = random.randint(2, 1000)\n",
    "    point1 = s * P\n",
    "\n",
    "    point2 = P\n",
    "    for i in range(s - 1):\n",
    "        point2 = point2 + P\n",
    "\n",
    "    assert point1 == point2, \"[s]P != P + P + ... + P\"\n",
    "    assert n * P == EC.inf(), \"[n]P != inf\"\n",
    "\n",
    "\n",
    "def test_propitis(P):\n",
    "    s1 = random.randint(1, n)\n",
    "    s2 = random.randint(1, n)\n",
    "    s3 = random.randint(1, n)\n",
    "\n",
    "    point1 = s1 * P\n",
    "    point2 = s2 * P\n",
    "    point3 = s3 * P\n",
    "\n",
    "    assert (point1 + point2) + point3 == point1 + (point2 + point3), \"accociativity property failed\"\n",
    "    assert point1 + point2 == point2 + point1, \"commutativity property failed\"\n",
    "    assert (s1 + s2) * P == s1 * P + s2 * P, \"distributivity property failed\"\n",
    "\n",
    "\n",
    "def test_gen(gen, n):\n",
    "    assert n * gen  == EC.inf(), \"[n]G != inf\"\n",
    "    assert (n + 1) * gen == gen, \"[n+1]G != G\""
   ]
  },
  {
   "cell_type": "markdown",
   "id": "f7da561a",
   "metadata": {},
   "source": [
    "## Запуск тестів для кривої P-224\n",
    "\n",
    "Тести виконуються із випадковими точками 50 разів."
   ]
  },
  {
   "cell_type": "code",
   "execution_count": 4,
   "id": "da173cfb",
   "metadata": {},
   "outputs": [
    {
     "name": "stdout",
     "output_type": "stream",
     "text": [
      "Test(1)   :     Passed✅\n",
      "Test(2)   :     Passed✅\n",
      "Test(3)   :     Passed✅\n",
      "Test(4)   :     Passed✅\n",
      "Test(5)   :     Passed✅\n",
      "Test(6)   :     Passed✅\n",
      "Test(7)   :     Passed✅\n",
      "Test(8)   :     Passed✅\n",
      "Test(9)   :     Passed✅\n",
      "Test(10)  :     Passed✅\n",
      "Test(11)  :     Passed✅\n",
      "Test(12)  :     Passed✅\n",
      "Test(13)  :     Passed✅\n",
      "Test(14)  :     Passed✅\n",
      "Test(15)  :     Passed✅\n",
      "Test(16)  :     Passed✅\n",
      "Test(17)  :     Passed✅\n",
      "Test(18)  :     Passed✅\n",
      "Test(19)  :     Passed✅\n",
      "Test(20)  :     Passed✅\n",
      "Test(21)  :     Passed✅\n",
      "Test(22)  :     Passed✅\n",
      "Test(23)  :     Passed✅\n",
      "Test(24)  :     Passed✅\n",
      "Test(25)  :     Passed✅\n",
      "Test(26)  :     Passed✅\n",
      "Test(27)  :     Passed✅\n",
      "Test(28)  :     Passed✅\n",
      "Test(29)  :     Passed✅\n",
      "Test(30)  :     Passed✅\n",
      "Test(31)  :     Passed✅\n",
      "Test(32)  :     Passed✅\n",
      "Test(33)  :     Passed✅\n",
      "Test(34)  :     Passed✅\n",
      "Test(35)  :     Passed✅\n",
      "Test(36)  :     Passed✅\n",
      "Test(37)  :     Passed✅\n",
      "Test(38)  :     Passed✅\n",
      "Test(39)  :     Passed✅\n",
      "Test(40)  :     Passed✅\n",
      "Test(41)  :     Passed✅\n",
      "Test(42)  :     Passed✅\n",
      "Test(43)  :     Passed✅\n",
      "Test(44)  :     Passed✅\n",
      "Test(45)  :     Passed✅\n",
      "Test(46)  :     Passed✅\n",
      "Test(47)  :     Passed✅\n",
      "Test(48)  :     Passed✅\n",
      "Test(49)  :     Passed✅\n",
      "\n",
      "Test [de]Generator:\tPassed✅\n"
     ]
    }
   ],
   "source": [
    "W = 4\n",
    "N = 50\n",
    "for i in range(1, N):\n",
    "    print(f\"Test({i}){\" \"*(W - len(str(i)))}: \".ljust(16), end=\"\")\n",
    "    k = random.randint(1, n)\n",
    "    kP = k * G\n",
    "\n",
    "    test_inf(kP)\n",
    "    test_peklo(kP)\n",
    "    test_scalaro_producto(kP)\n",
    "    test_propitis(kP)\n",
    "\n",
    "    print(\"Passed✅\")\n",
    "\n",
    "print()\n",
    "print(\"Test [de]Generator\", end=\":\\t\")\n",
    "test_gen(G, n)\n",
    "print(\"Passed✅\")"
   ]
  },
  {
   "cell_type": "markdown",
   "id": "c28bca8c",
   "metadata": {},
   "source": [
    "## Заміри часу виконання операцій додавання та множення на кривій P-224"
   ]
  },
  {
   "cell_type": "code",
   "execution_count": 5,
   "id": "0ee35c5a",
   "metadata": {},
   "outputs": [],
   "source": [
    "def benchmark_scalar_mult(N):\n",
    "    general_time = 0\n",
    "    for _ in range(N):\n",
    "        P = EC.rand_point()\n",
    "        k = random.randint(1, n)\n",
    "        start = time.time()\n",
    "        k * P\n",
    "        end = time.time()\n",
    "        general_time += (end - start)\n",
    "\n",
    "\n",
    "    print(f\"Time taken for {N} scalar multiplications: {general_time:.4f} seconds (~{general_time / N:.4f} seconds per multiplication)\")\n",
    "\n",
    "def benchmark_addition(N):\n",
    "    general_time = 0\n",
    "    for i in range(N):\n",
    "        P = EC.rand_point()\n",
    "        Q = EC.rand_point()\n",
    "        start = time.time()\n",
    "        P + Q\n",
    "        end = time.time()\n",
    "        general_time += (end - start)\n",
    "\n",
    "\n",
    "    print(f\"Time taken for {N} addition: {general_time*1000:.6f} ms (~{general_time*1000 / N:.6f} ms per multiplication)\")"
   ]
  },
  {
   "cell_type": "code",
   "execution_count": 6,
   "id": "26c95d24",
   "metadata": {},
   "outputs": [
    {
     "name": "stdout",
     "output_type": "stream",
     "text": [
      "Time taken for 1000 scalar multiplications: 3.7748 seconds (~0.0038 seconds per multiplication)\n",
      "Time taken for 1000 addition: 8.907318 ms (~0.008907 ms per multiplication)\n"
     ]
    }
   ],
   "source": [
    "benchmark_scalar_mult(1000)\n",
    "benchmark_addition(1000)"
   ]
  }
 ],
 "metadata": {
  "kernelspec": {
   "display_name": "Python 3",
   "language": "python",
   "name": "python3"
  },
  "language_info": {
   "codemirror_mode": {
    "name": "ipython",
    "version": 3
   },
   "file_extension": ".py",
   "mimetype": "text/x-python",
   "name": "python",
   "nbconvert_exporter": "python",
   "pygments_lexer": "ipython3",
   "version": "3.12.10"
  }
 },
 "nbformat": 4,
 "nbformat_minor": 5
}
